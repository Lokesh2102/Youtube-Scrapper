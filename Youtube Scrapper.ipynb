{
 "cells": [
  {
   "cell_type": "code",
   "execution_count": 1,
   "metadata": {},
   "outputs": [],
   "source": [
    "from selenium import webdriver\n",
    "from selenium.webdriver.common.by import By\n",
    "import requests\n",
    "import bs4\n",
    "from pytube import YouTube"
   ]
  },
  {
   "cell_type": "code",
   "execution_count": 4,
   "metadata": {},
   "outputs": [
    {
     "name": "stdout",
     "output_type": "stream",
     "text": [
      "Enter a video\n",
      "firse machaenge\n"
     ]
    }
   ],
   "source": [
    "print(\"Enter a video\")\n",
    "nam=input()\n",
    "n=\"\"\n",
    "if(len(nam.split(\" \"))>1):\n",
    "    for i in range(len(nam.split(\" \"))):\n",
    "        n=n+nam.split(\" \")[i]\n",
    "        if(i<len(nam.split(\" \"))-1):\n",
    "            n+=\"+\"\n",
    "else:\n",
    "    n=nam\n",
    "browser=webdriver.Chrome(r\"C:\\Users\\user\\Downloads\\chromedriver\")\n",
    "browser.set_window_size(760,850)"
   ]
  },
  {
   "cell_type": "code",
   "execution_count": 5,
   "metadata": {},
   "outputs": [],
   "source": [
    "url=\"https://www.youtube.com/results?search_query=\"\n",
    "url+=n\n",
    "browser.get(url)\n",
    "te1=browser.find_elements(By.ID,\"video-title\")"
   ]
  },
  {
   "cell_type": "code",
   "execution_count": 6,
   "metadata": {},
   "outputs": [],
   "source": [
    "browser.get(te1[0].get_attribute(\"href\"))"
   ]
  },
  {
   "cell_type": "code",
   "execution_count": null,
   "metadata": {},
   "outputs": [],
   "source": []
  },
  {
   "cell_type": "code",
   "execution_count": null,
   "metadata": {},
   "outputs": [],
   "source": []
  },
  {
   "cell_type": "code",
   "execution_count": null,
   "metadata": {},
   "outputs": [],
   "source": [
    "#For Top 5 Results"
   ]
  },
  {
   "cell_type": "code",
   "execution_count": 99,
   "metadata": {
    "scrolled": true
   },
   "outputs": [
    {
     "name": "stdout",
     "output_type": "stream",
     "text": [
      "Top 5 results---\n",
      "1 - Driving Downtown - Chicago 4K - USA\n",
      "2 - Making Of Downtown Full Song  : Guru Randhawa || Behind The Scenes || Plzz Subscribe||\n",
      "3 - Driving Downtown - Las Vegas 4K - USA\n",
      "4 - August Alsina - Downtown ft. Kidd Kidd (Official Video)\n"
     ]
    }
   ],
   "source": [
    "te1=browser.find_elements(By.ID,\"video-title\")\n",
    "video_links=[]\n",
    "for i in te1:\n",
    "    video_links.append(i.get_attribute(\"href\"))\n",
    "count=1\n",
    "correct_links=[]\n",
    "print(\"Top 5 results---\")\n",
    "for i in video_links:\n",
    "    if(count==6):\n",
    "        break\n",
    "    try:\n",
    "        yt = YouTube(i)\n",
    "        print(count,end=\" - \")\n",
    "        print(yt.title)\n",
    "        count+=1\n",
    "        correct_links.append(i)\n",
    "    except:\n",
    "        continue"
   ]
  },
  {
   "cell_type": "code",
   "execution_count": 97,
   "metadata": {},
   "outputs": [
    {
     "name": "stdout",
     "output_type": "stream",
     "text": [
      "Select your choice\n",
      "2\n"
     ]
    }
   ],
   "source": [
    "print(\"Select your choice\")\n",
    "choice=int(input())\n",
    "browser.get(correct_links[choice-1])"
   ]
  }
 ],
 "metadata": {
  "kernelspec": {
   "display_name": "Python 3",
   "language": "python",
   "name": "python3"
  },
  "language_info": {
   "codemirror_mode": {
    "name": "ipython",
    "version": 3
   },
   "file_extension": ".py",
   "mimetype": "text/x-python",
   "name": "python",
   "nbconvert_exporter": "python",
   "pygments_lexer": "ipython3",
   "version": "3.7.6"
  }
 },
 "nbformat": 4,
 "nbformat_minor": 4
}
